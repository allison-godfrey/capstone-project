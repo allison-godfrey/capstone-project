{
 "cells": [
  {
   "cell_type": "code",
   "execution_count": 2,
   "metadata": {
    "scrolled": true
   },
   "outputs": [
    {
     "name": "stdout",
     "output_type": "stream",
     "text": [
      "math0.jpg -> ../../collectedData/sliced/math0\n",
      "math1.jpg -> ../../collectedData/sliced/math1\n"
     ]
    }
   ],
   "source": [
    "import os\n",
    "import cv2\n",
    "import pytesseract\n",
    "from pytesseract import Output\n",
    "\n",
    "# configure tesseract\n",
    "## oem 3 == Engine Mode: Default, based on what is available (Legacy, LSTM, or both)\n",
    "## psm 3 == Page Segmentation Mode: Fully automatic page segmentation, but no OSD\n",
    "## psm 11 == Page Segmentation Mode: Sparse text - find as much text as possible in no particular order, no OSD\n",
    "custom_config = r'--oem 3 --psm 11'\n",
    "\n",
    "inPath = '../../collectedData/raw/'\n",
    "outParent = '../../collectedData/sliced/'\n",
    "\n",
    "for file in os.listdir(inPath):\n",
    "    if 'math' not in file:\n",
    "        continue\n",
    "    \n",
    "    outPath = os.path.join(outParent,'.'.join(file.split('.')[:-1]))\n",
    "    print(f'{file} -> {outPath}')\n",
    "    if not os.path.exists(outPath):\n",
    "        os.mkdir(outPath)\n",
    "    \n",
    "    img = cv2.imread(os.path.join(inPath,file))\n",
    "    imgGray = cv2.cvtColor(img, cv2.COLOR_BGR2GRAY)\n",
    "    imgBinary = cv2.threshold(imgGray, 0, 255, cv2.THRESH_BINARY | cv2.THRESH_OTSU)[1]\n",
    "\n",
    "    details = pytesseract.image_to_data(imgBinary, output_type=Output.DICT, config=custom_config, lang='eng')\n",
    "    total_boxes = len(details['text'])\n",
    "    for sequence_number in range(total_boxes):\n",
    "        if int(details['conf'][sequence_number]) > -1:\n",
    "            (x, y, w, h) = (details['left'][sequence_number], details['top'][sequence_number], details['width'][sequence_number],  details['height'][sequence_number])\n",
    "            imgBinary = cv2.rectangle(imgBinary, (x, y), (x + w, y + h), (0, 255, 0), 2)\n",
    "            crop_img = img[y:y+h, x:x+w]\n",
    "            cv2.imwrite(os.path.join(outPath,str(sequence_number).zfill(len(str(total_boxes)))+'.png'), crop_img)\n",
    "\n",
    "    cv2.imwrite(os.path.join(outParent,'_markings',str(file)), imgBinary)\n",
    "#     cv2.imshow('captured text', imgBinary)\n",
    "#     cv2.waitKey(0)\n",
    "#     cv2.destroyAllWindows()"
   ]
  },
  {
   "cell_type": "code",
   "execution_count": 3,
   "metadata": {},
   "outputs": [],
   "source": [
    "# # CV2 Experiment\n",
    "\n",
    "# file = 'clean3.jpg'\n",
    "# outPath = os.path.join(outParent,'.'.join(file.split('.')[:-1]))\n",
    "# if not os.path.exists(outPath):\n",
    "#     os.mkdir(outPath)\n",
    "\n",
    "# img = cv2.imread(os.path.join(inPath,file))\n",
    "# imgGray = cv2.cvtColor(img, cv2.COLOR_BGR2GRAY)\n",
    "# imgBinary = cv2.threshold(imgGray, 0, 255, cv2.THRESH_BINARY | cv2.THRESH_OTSU)[1]\n",
    "\n",
    "# details = pytesseract.image_to_data(imgBinary, output_type=Output.DICT, config=custom_config, lang='eng')\n",
    "# total_boxes = len(details['text'])\n",
    "# for sequence_number in range(total_boxes):\n",
    "#     if int(details['conf'][sequence_number]) > -1:\n",
    "#         (x, y, w, h) = (details['left'][sequence_number], details['top'][sequence_number], details['width'][sequence_number],  details['height'][sequence_number])\n",
    "#         imgBinary = cv2.rectangle(imgBinary, (x, y), (x + w, y + h), (0, 255, 0), 2)\n",
    "#         crop_img = img[y:y+h, x:x+w]\n",
    "#         cv2.imwrite(os.path.join(outPath,str(sequence_number).zfill(len(str(total_boxes)))+'.png'), crop_img)\n",
    "\n",
    "# cv2.imwrite(os.path.join(outParent,'_markings',str(file)), imgBinary)"
   ]
  }
 ],
 "metadata": {
  "kernelspec": {
   "display_name": "Python 3",
   "language": "python",
   "name": "python3"
  },
  "language_info": {
   "codemirror_mode": {
    "name": "ipython",
    "version": 3
   },
   "file_extension": ".py",
   "mimetype": "text/x-python",
   "name": "python",
   "nbconvert_exporter": "python",
   "pygments_lexer": "ipython3",
   "version": "3.6.12"
  }
 },
 "nbformat": 4,
 "nbformat_minor": 4
}
