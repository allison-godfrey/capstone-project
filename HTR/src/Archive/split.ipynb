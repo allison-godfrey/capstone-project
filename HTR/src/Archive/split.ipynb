{
 "cells": [
  {
   "cell_type": "code",
   "execution_count": 1,
   "metadata": {
    "scrolled": true
   },
   "outputs": [
    {
     "name": "stdout",
     "output_type": "stream",
     "text": [
      "clean0.jpg -> ../../collectedData/sliced/clean0\n",
      "clean1.jpg -> ../../collectedData/sliced/clean1\n",
      "clean2.jpg -> ../../collectedData/sliced/clean2\n",
      "clean3.jpg -> ../../collectedData/sliced/clean3\n",
      "math0.jpg -> ../../collectedData/sliced/math0\n",
      "math1.jpg -> ../../collectedData/sliced/math1\n",
      "response_001.jpg -> ../../collectedData/sliced/response_001\n",
      "response_002.jpg -> ../../collectedData/sliced/response_002\n",
      "response_003.png -> ../../collectedData/sliced/response_003\n",
      "response_004.jpg -> ../../collectedData/sliced/response_004\n",
      "response_005.jpg -> ../../collectedData/sliced/response_005\n",
      "response_007.jpg -> ../../collectedData/sliced/response_007\n",
      "response_008.jpg -> ../../collectedData/sliced/response_008\n",
      "response_009.jpg -> ../../collectedData/sliced/response_009\n",
      "response_010.jpg -> ../../collectedData/sliced/response_010\n",
      "response_011.jpg -> ../../collectedData/sliced/response_011\n",
      "response_012.jpg -> ../../collectedData/sliced/response_012\n",
      "response_013.jpg -> ../../collectedData/sliced/response_013\n"
     ]
    }
   ],
   "source": [
    "import os\n",
    "import random\n",
    "\n",
    "import cv2\n",
    "import pytesseract\n",
    "from pytesseract import Output\n",
    "\n",
    "# configure tesseract\n",
    "## oem 3 == Engine Mode: Default, based on what is available (Legacy, LSTM, or both)\n",
    "## psm 3 == Page Segmentation Mode: Fully automatic page segmentation, but no OSD\n",
    "## psm 11 == Page Segmentation Mode: Sparse text - find as much text as possible in no particular order, no OSD\n",
    "custom_config = r'--oem 3 --psm 11'\n",
    "\n",
    "inPath = '../../collectedData/raw/'\n",
    "outParent = '../../collectedData/sliced/'\n",
    "\n",
    "for file in os.listdir(inPath):    \n",
    "    outPath = os.path.join(outParent,'.'.join(file.split('.')[:-1]))\n",
    "    print(f'{file} -> {outPath}')\n",
    "    if not os.path.exists(outPath):\n",
    "        os.mkdir(outPath)\n",
    "    \n",
    "    img = cv2.imread(os.path.join(inPath,file))\n",
    "    imgMarked = cv2.imread(os.path.join(inPath,file))\n",
    "    imgGray = cv2.cvtColor(img, cv2.COLOR_BGR2GRAY)\n",
    "    imgBinary = cv2.threshold(imgGray, 0, 255, cv2.THRESH_BINARY | cv2.THRESH_OTSU)[1]\n",
    "\n",
    "    details = pytesseract.image_to_data(imgBinary, output_type=Output.DICT, config=custom_config, lang='eng')\n",
    "    total_boxes = len(details['text'])\n",
    "    for sequence_number in range(total_boxes):\n",
    "        if int(details['conf'][sequence_number]) > -1:\n",
    "            (x, y, w, h) = (details['left'][sequence_number], details['top'][sequence_number], details['width'][sequence_number],  details['height'][sequence_number])\n",
    "            imgBinary = cv2.rectangle(imgBinary, (x, y), (x + w, y + h), (0, 0, 0), 2)\n",
    "            imgMarked = cv2.rectangle(imgMarked, (x, y), (x + w, y + h), (random.randint(0,255), random.randint(0,255), random.randint(0,255)), 2)\n",
    "            crop_img = img[y:y+h, x:x+w]\n",
    "            cv2.imwrite(os.path.join(outPath,str(sequence_number).zfill(len(str(total_boxes)))+'.png'), crop_img)\n",
    "\n",
    "    cv2.imwrite(os.path.join(outParent,'_markings',str(file)), imgMarked)\n",
    "#     cv2.imshow('captured text', imgBinary)\n",
    "#     cv2.waitKey(0)\n",
    "#     cv2.destroyAllWindows()"
   ]
  }
 ],
 "metadata": {
  "kernelspec": {
   "display_name": "Python 3",
   "language": "python",
   "name": "python3"
  },
  "language_info": {
   "codemirror_mode": {
    "name": "ipython",
    "version": 3
   },
   "file_extension": ".py",
   "mimetype": "text/x-python",
   "name": "python",
   "nbconvert_exporter": "python",
   "pygments_lexer": "ipython3",
   "version": "3.6.12"
  }
 },
 "nbformat": 4,
 "nbformat_minor": 4
}
