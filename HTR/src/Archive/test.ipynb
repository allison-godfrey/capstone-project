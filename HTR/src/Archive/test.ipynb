{
 "cells": [
  {
   "cell_type": "code",
   "execution_count": 119,
   "metadata": {
    "scrolled": true
   },
   "outputs": [],
   "source": [
    "def mergeCnts(cnts):\n",
    "    corners = []\n",
    "    for c in cnts:\n",
    "        pts = [list(x[0]) for x in c]\n",
    "        xVals = [x[0] for x in pts]\n",
    "        yVals = [x[1] for x in pts]\n",
    "        xMin = min(xVals)\n",
    "        xMax = max(xVals)\n",
    "        yMin = min(yVals)\n",
    "        yMax = max(yVals)\n",
    "\n",
    "        for i, shape in enumerate(corners):\n",
    "            left = shape[0][0,0]\n",
    "            right = shape[1][0,0]\n",
    "            top = shape[0][0,1]\n",
    "            bottom = shape[-1][0,1]\n",
    "            if (xMin >= left and xMin <= right) or (xMax >= left and xMax <= right):\n",
    "                xMin = min(xMin,left)\n",
    "                xMax = max(xMax,right)\n",
    "                yMin = min(yMin,top)\n",
    "                yMax = max(yMax,bottom)\n",
    "                del corners[i]\n",
    "\n",
    "        corners.append(np.array([[[xMin,yMin]],[[xMax,yMin]],[[xMax,yMax]],[[xMin,yMax]]]))\n",
    "    \n",
    "    return corners"
   ]
  },
  {
   "cell_type": "code",
   "execution_count": 121,
   "metadata": {},
   "outputs": [
    {
     "name": "stdout",
     "output_type": "stream",
     "text": [
      "test.png -> ../../collectedData/sliced/test\n"
     ]
    }
   ],
   "source": [
    "import cv2\n",
    "from imutils import contours\n",
    "\n",
    "inPath = '../../collectedData/sliced/math1/'\n",
    "file = 'test.png'\n",
    "outParent = '../../collectedData/sliced/'\n",
    "outPath = os.path.join(outParent,'.'.join(file.split('.')[:-1]))\n",
    "print(f'{file} -> {outPath}')\n",
    "if not os.path.exists(outPath):\n",
    "    os.mkdir(outPath)\n",
    "    \n",
    "image = cv2.imread(os.path.join(inPath,file))\n",
    "gray = cv2.cvtColor(image, cv2.COLOR_BGR2GRAY)\n",
    "blur = cv2.GaussianBlur(gray, (9, 9), 0)\n",
    "thresh = cv2.threshold(blur,0,255,cv2.THRESH_OTSU + cv2.THRESH_BINARY)[1]\n",
    "invert = cv2.bitwise_not(thresh)\n",
    "img = invert\n",
    "\n",
    "# Apply dilate to merge text into meaningful lines/paragraphs.\n",
    "# Use larger kernel on X axis to merge characters into single line, cancelling out any spaces.\n",
    "# But use smaller kernel on Y axis to separate between different blocks of text\n",
    "kernel = cv2.getStructuringElement(cv2.MORPH_RECT, (3, 1))\n",
    "dilate = cv2.dilate(img, kernel, iterations=5)\n",
    "\n",
    "# Find all contours\n",
    "contours, hierarchy = cv2.findContours(dilate, cv2.RETR_EXTERNAL, cv2.CHAIN_APPROX_SIMPLE)\n",
    "cnts = sorted(contours, key = cv2.contourArea, reverse = True)\n",
    "cnts = mergeCnts(cnts)\n",
    "\n",
    "ROI_number = 0\n",
    "for c in cnts:\n",
    "    area = cv2.contourArea(c)\n",
    "    if area > 10:\n",
    "        x,y,w,h = cv2.boundingRect(c)\n",
    "        ROI = 255 - image[y:y+h, x:x+w]\n",
    "        cv2.imwrite('ROI_{}.png'.format(ROI_number), ROI)\n",
    "        cv2.rectangle(image, (x, y), (x + w, y + h), (random.randint(0,255),random.randint(0,255),random.randint(0,255)), 1)\n",
    "        ROI_number += 1\n",
    "cv2.imwrite(os.path.join(outParent,'_markings',str(file)), image)\n",
    "cv2.imshow('image', image)\n",
    "cv2.waitKey(0)\n",
    "cv2.destroyAllWindows()"
   ]
  }
 ],
 "metadata": {
  "kernelspec": {
   "display_name": "Python 3",
   "language": "python",
   "name": "python3"
  },
  "language_info": {
   "codemirror_mode": {
    "name": "ipython",
    "version": 3
   },
   "file_extension": ".py",
   "mimetype": "text/x-python",
   "name": "python",
   "nbconvert_exporter": "python",
   "pygments_lexer": "ipython3",
   "version": "3.6.12"
  }
 },
 "nbformat": 4,
 "nbformat_minor": 4
}
