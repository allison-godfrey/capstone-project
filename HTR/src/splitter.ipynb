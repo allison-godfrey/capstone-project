{
 "cells": [
  {
   "cell_type": "code",
   "execution_count": 35,
   "metadata": {},
   "outputs": [],
   "source": [
    "import cv2\n",
    "import numpy as np\n",
    "import os\n",
    "    \n",
    "def sliceImg(filepath, filename):\n",
    "    orig = cv2.imread(os.path.join(filepath, filename))\n",
    "    #cv2.imshow('orig',orig)\n",
    "    #cv2.waitKey(0)\n",
    "\n",
    "    #grayscale\n",
    "    gray = cv2.cvtColor(orig, cv2.COLOR_BGR2GRAY)\n",
    "    # cv2.imshow('gray',gray)\n",
    "    # cv2.waitKey(0)\n",
    "\n",
    "    #binary\n",
    "    ret, thresh = cv2.threshold(gray, 127, 255, cv2.THRESH_BINARY_INV)\n",
    "    # cv2.imshow('second',thresh)\n",
    "    # cv2.waitKey(0)\n",
    "\n",
    "    #dilation\n",
    "    kernel = np.ones((3, 100), np.uint8)\n",
    "    dilated = cv2.dilate(thresh, kernel, iterations=1)\n",
    "    # cv2.imshow('dilated',dilated)\n",
    "    # cv2.waitKey(0)\n",
    "\n",
    "    def getCtrs(img):\n",
    "        #find and sort contours\n",
    "        ctrs = cv2.findContours(img.copy(), cv2.RETR_EXTERNAL, cv2.CHAIN_APPROX_SIMPLE)[0]\n",
    "        return sorted(ctrs, key=lambda ctr: cv2.boundingRect(ctr)[0])\n",
    "\n",
    "    ctrs = getCtrs(dilated)\n",
    "\n",
    "    # Create a copy to mark up for display purposes\n",
    "    copy = orig.copy()\n",
    "\n",
    "    for i, ctr in enumerate(ctrs):\n",
    "        # Get bounding box\n",
    "        x, y, w, h = cv2.boundingRect(ctr)\n",
    "\n",
    "        # Slice region\n",
    "        region = orig[y:y+h, x:x+w]\n",
    "\n",
    "        # Save file\n",
    "        outPath = os.path.join('../data/slices/',filename)\n",
    "        if not os.path.exists(outPath):\n",
    "            os.makedirs(outPath)\n",
    "        cv2.imwrite(os.path.join(outPath, f'{i}.png'), region)\n",
    "\n",
    "        # Display\n",
    "        cv2.rectangle(copy, (x, y), (x+w, y+h), (90,0,255), 1)\n",
    "        if i<0:\n",
    "            cv2.imshow('Segment #'+str(i),region)\n",
    "\n",
    "    # Final slices\n",
    "    cv2.imwrite(os.path.join('../data/markedImgs',filename),copy)\n",
    "#     cv2.imshow('marked areas',copy)\n",
    "#     cv2.waitKey(0)"
   ]
  },
  {
   "cell_type": "code",
   "execution_count": 36,
   "metadata": {},
   "outputs": [],
   "source": [
    "filepath = '../../collectedData/raw/'\n",
    "for filename in os.listdir(filepath):\n",
    "    sliceImg(filepath, filename)"
   ]
  }
 ],
 "metadata": {
  "kernelspec": {
   "display_name": "Python 3",
   "language": "python",
   "name": "python3"
  },
  "language_info": {
   "codemirror_mode": {
    "name": "ipython",
    "version": 3
   },
   "file_extension": ".py",
   "mimetype": "text/x-python",
   "name": "python",
   "nbconvert_exporter": "python",
   "pygments_lexer": "ipython3",
   "version": "3.6.12"
  }
 },
 "nbformat": 4,
 "nbformat_minor": 4
}
